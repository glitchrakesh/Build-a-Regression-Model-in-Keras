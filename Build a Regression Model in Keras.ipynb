{
 "cells": [
  {
   "cell_type": "markdown",
   "id": "bf890cc5",
   "metadata": {},
   "source": [
    "IMPORT PANDAS AND NUMPY LIBRARIES"
   ]
  },
  {
   "cell_type": "code",
   "execution_count": 1,
   "id": "c357066b",
   "metadata": {},
   "outputs": [],
   "source": [
    "import pandas as pd\n",
    "import numpy as np"
   ]
  },
  {
   "cell_type": "code",
   "execution_count": 2,
   "id": "51d3d179",
   "metadata": {
    "scrolled": true
   },
   "outputs": [
    {
     "data": {
      "text/html": [
       "<div>\n",
       "<style scoped>\n",
       "    .dataframe tbody tr th:only-of-type {\n",
       "        vertical-align: middle;\n",
       "    }\n",
       "\n",
       "    .dataframe tbody tr th {\n",
       "        vertical-align: top;\n",
       "    }\n",
       "\n",
       "    .dataframe thead th {\n",
       "        text-align: right;\n",
       "    }\n",
       "</style>\n",
       "<table border=\"1\" class=\"dataframe\">\n",
       "  <thead>\n",
       "    <tr style=\"text-align: right;\">\n",
       "      <th></th>\n",
       "      <th>Cement</th>\n",
       "      <th>Blast Furnace Slag</th>\n",
       "      <th>Fly Ash</th>\n",
       "      <th>Water</th>\n",
       "      <th>Superplasticizer</th>\n",
       "      <th>Coarse Aggregate</th>\n",
       "      <th>Fine Aggregate</th>\n",
       "      <th>Age</th>\n",
       "      <th>Concrete compressive strength</th>\n",
       "    </tr>\n",
       "  </thead>\n",
       "  <tbody>\n",
       "    <tr>\n",
       "      <th>0</th>\n",
       "      <td>540.0</td>\n",
       "      <td>0.0</td>\n",
       "      <td>0.0</td>\n",
       "      <td>162.0</td>\n",
       "      <td>2.5</td>\n",
       "      <td>1040.0</td>\n",
       "      <td>676.0</td>\n",
       "      <td>28</td>\n",
       "      <td>79.99</td>\n",
       "    </tr>\n",
       "    <tr>\n",
       "      <th>1</th>\n",
       "      <td>540.0</td>\n",
       "      <td>0.0</td>\n",
       "      <td>0.0</td>\n",
       "      <td>162.0</td>\n",
       "      <td>2.5</td>\n",
       "      <td>1055.0</td>\n",
       "      <td>676.0</td>\n",
       "      <td>28</td>\n",
       "      <td>61.89</td>\n",
       "    </tr>\n",
       "    <tr>\n",
       "      <th>2</th>\n",
       "      <td>332.5</td>\n",
       "      <td>142.5</td>\n",
       "      <td>0.0</td>\n",
       "      <td>228.0</td>\n",
       "      <td>0.0</td>\n",
       "      <td>932.0</td>\n",
       "      <td>594.0</td>\n",
       "      <td>270</td>\n",
       "      <td>40.27</td>\n",
       "    </tr>\n",
       "    <tr>\n",
       "      <th>3</th>\n",
       "      <td>332.5</td>\n",
       "      <td>142.5</td>\n",
       "      <td>0.0</td>\n",
       "      <td>228.0</td>\n",
       "      <td>0.0</td>\n",
       "      <td>932.0</td>\n",
       "      <td>594.0</td>\n",
       "      <td>365</td>\n",
       "      <td>41.05</td>\n",
       "    </tr>\n",
       "    <tr>\n",
       "      <th>4</th>\n",
       "      <td>198.6</td>\n",
       "      <td>132.4</td>\n",
       "      <td>0.0</td>\n",
       "      <td>192.0</td>\n",
       "      <td>0.0</td>\n",
       "      <td>978.4</td>\n",
       "      <td>825.5</td>\n",
       "      <td>360</td>\n",
       "      <td>44.30</td>\n",
       "    </tr>\n",
       "  </tbody>\n",
       "</table>\n",
       "</div>"
      ],
      "text/plain": [
       "   Cement   Blast Furnace Slag   Fly Ash  Water    Superplasticizer  \\\n",
       "0    540.0                  0.0      0.0    162.0               2.5   \n",
       "1    540.0                  0.0      0.0    162.0               2.5   \n",
       "2    332.5                142.5      0.0    228.0               0.0   \n",
       "3    332.5                142.5      0.0    228.0               0.0   \n",
       "4    198.6                132.4      0.0    192.0               0.0   \n",
       "\n",
       "   Coarse Aggregate   Fine Aggregate  Age  Concrete compressive strength  \n",
       "0             1040.0           676.0   28                          79.99  \n",
       "1             1055.0           676.0   28                          61.89  \n",
       "2              932.0           594.0  270                          40.27  \n",
       "3              932.0           594.0  365                          41.05  \n",
       "4              978.4           825.5  360                          44.30  "
      ]
     },
     "execution_count": 2,
     "metadata": {},
     "output_type": "execute_result"
    }
   ],
   "source": [
    "concrete_data = pd.read_csv('concrete_data.csv')\n",
    "concrete_data.head()"
   ]
  },
  {
   "cell_type": "code",
   "execution_count": 3,
   "id": "61743a6b",
   "metadata": {},
   "outputs": [
    {
     "data": {
      "text/plain": [
       "(1030, 9)"
      ]
     },
     "execution_count": 3,
     "metadata": {},
     "output_type": "execute_result"
    }
   ],
   "source": [
    "#how many data points are there\n",
    "concrete_data.shape"
   ]
  },
  {
   "cell_type": "code",
   "execution_count": 4,
   "id": "facb6eff",
   "metadata": {},
   "outputs": [
    {
     "data": {
      "text/html": [
       "<div>\n",
       "<style scoped>\n",
       "    .dataframe tbody tr th:only-of-type {\n",
       "        vertical-align: middle;\n",
       "    }\n",
       "\n",
       "    .dataframe tbody tr th {\n",
       "        vertical-align: top;\n",
       "    }\n",
       "\n",
       "    .dataframe thead th {\n",
       "        text-align: right;\n",
       "    }\n",
       "</style>\n",
       "<table border=\"1\" class=\"dataframe\">\n",
       "  <thead>\n",
       "    <tr style=\"text-align: right;\">\n",
       "      <th></th>\n",
       "      <th>Cement</th>\n",
       "      <th>Blast Furnace Slag</th>\n",
       "      <th>Fly Ash</th>\n",
       "      <th>Water</th>\n",
       "      <th>Superplasticizer</th>\n",
       "      <th>Coarse Aggregate</th>\n",
       "      <th>Fine Aggregate</th>\n",
       "      <th>Age</th>\n",
       "      <th>Concrete compressive strength</th>\n",
       "    </tr>\n",
       "  </thead>\n",
       "  <tbody>\n",
       "    <tr>\n",
       "      <th>count</th>\n",
       "      <td>1030.000000</td>\n",
       "      <td>1030.000000</td>\n",
       "      <td>1030.000000</td>\n",
       "      <td>1030.000000</td>\n",
       "      <td>1030.000000</td>\n",
       "      <td>1030.000000</td>\n",
       "      <td>1030.000000</td>\n",
       "      <td>1030.000000</td>\n",
       "      <td>1030.000000</td>\n",
       "    </tr>\n",
       "    <tr>\n",
       "      <th>mean</th>\n",
       "      <td>281.167864</td>\n",
       "      <td>73.895825</td>\n",
       "      <td>54.188350</td>\n",
       "      <td>181.567282</td>\n",
       "      <td>6.204660</td>\n",
       "      <td>972.918932</td>\n",
       "      <td>773.580485</td>\n",
       "      <td>45.662136</td>\n",
       "      <td>35.817961</td>\n",
       "    </tr>\n",
       "    <tr>\n",
       "      <th>std</th>\n",
       "      <td>104.506364</td>\n",
       "      <td>86.279342</td>\n",
       "      <td>63.997004</td>\n",
       "      <td>21.354219</td>\n",
       "      <td>5.973841</td>\n",
       "      <td>77.753954</td>\n",
       "      <td>80.175980</td>\n",
       "      <td>63.169912</td>\n",
       "      <td>16.705742</td>\n",
       "    </tr>\n",
       "    <tr>\n",
       "      <th>min</th>\n",
       "      <td>102.000000</td>\n",
       "      <td>0.000000</td>\n",
       "      <td>0.000000</td>\n",
       "      <td>121.800000</td>\n",
       "      <td>0.000000</td>\n",
       "      <td>801.000000</td>\n",
       "      <td>594.000000</td>\n",
       "      <td>1.000000</td>\n",
       "      <td>2.330000</td>\n",
       "    </tr>\n",
       "    <tr>\n",
       "      <th>25%</th>\n",
       "      <td>192.375000</td>\n",
       "      <td>0.000000</td>\n",
       "      <td>0.000000</td>\n",
       "      <td>164.900000</td>\n",
       "      <td>0.000000</td>\n",
       "      <td>932.000000</td>\n",
       "      <td>730.950000</td>\n",
       "      <td>7.000000</td>\n",
       "      <td>23.710000</td>\n",
       "    </tr>\n",
       "    <tr>\n",
       "      <th>50%</th>\n",
       "      <td>272.900000</td>\n",
       "      <td>22.000000</td>\n",
       "      <td>0.000000</td>\n",
       "      <td>185.000000</td>\n",
       "      <td>6.400000</td>\n",
       "      <td>968.000000</td>\n",
       "      <td>779.500000</td>\n",
       "      <td>28.000000</td>\n",
       "      <td>34.445000</td>\n",
       "    </tr>\n",
       "    <tr>\n",
       "      <th>75%</th>\n",
       "      <td>350.000000</td>\n",
       "      <td>142.950000</td>\n",
       "      <td>118.300000</td>\n",
       "      <td>192.000000</td>\n",
       "      <td>10.200000</td>\n",
       "      <td>1029.400000</td>\n",
       "      <td>824.000000</td>\n",
       "      <td>56.000000</td>\n",
       "      <td>46.135000</td>\n",
       "    </tr>\n",
       "    <tr>\n",
       "      <th>max</th>\n",
       "      <td>540.000000</td>\n",
       "      <td>359.400000</td>\n",
       "      <td>200.100000</td>\n",
       "      <td>247.000000</td>\n",
       "      <td>32.200000</td>\n",
       "      <td>1145.000000</td>\n",
       "      <td>992.600000</td>\n",
       "      <td>365.000000</td>\n",
       "      <td>82.600000</td>\n",
       "    </tr>\n",
       "  </tbody>\n",
       "</table>\n",
       "</div>"
      ],
      "text/plain": [
       "           Cement   Blast Furnace Slag       Fly Ash      Water    \\\n",
       "count  1030.000000          1030.000000  1030.000000  1030.000000   \n",
       "mean    281.167864            73.895825    54.188350   181.567282   \n",
       "std     104.506364            86.279342    63.997004    21.354219   \n",
       "min     102.000000             0.000000     0.000000   121.800000   \n",
       "25%     192.375000             0.000000     0.000000   164.900000   \n",
       "50%     272.900000            22.000000     0.000000   185.000000   \n",
       "75%     350.000000           142.950000   118.300000   192.000000   \n",
       "max     540.000000           359.400000   200.100000   247.000000   \n",
       "\n",
       "       Superplasticizer  Coarse Aggregate   Fine Aggregate          Age  \\\n",
       "count       1030.000000        1030.000000     1030.000000  1030.000000   \n",
       "mean           6.204660         972.918932      773.580485    45.662136   \n",
       "std            5.973841          77.753954       80.175980    63.169912   \n",
       "min            0.000000         801.000000      594.000000     1.000000   \n",
       "25%            0.000000         932.000000      730.950000     7.000000   \n",
       "50%            6.400000         968.000000      779.500000    28.000000   \n",
       "75%           10.200000        1029.400000      824.000000    56.000000   \n",
       "max           32.200000        1145.000000      992.600000   365.000000   \n",
       "\n",
       "       Concrete compressive strength  \n",
       "count                    1030.000000  \n",
       "mean                       35.817961  \n",
       "std                        16.705742  \n",
       "min                         2.330000  \n",
       "25%                        23.710000  \n",
       "50%                        34.445000  \n",
       "75%                        46.135000  \n",
       "max                        82.600000  "
      ]
     },
     "execution_count": 4,
     "metadata": {},
     "output_type": "execute_result"
    }
   ],
   "source": [
    "concrete_data.describe()"
   ]
  },
  {
   "cell_type": "code",
   "execution_count": 5,
   "id": "e7254764",
   "metadata": {},
   "outputs": [
    {
     "data": {
      "text/plain": [
       "Cement                           0\n",
       "Blast Furnace Slag               0\n",
       "Fly Ash                          0\n",
       "Water                            0\n",
       "Superplasticizer                 0\n",
       "Coarse Aggregate                 0\n",
       "Fine Aggregate                   0\n",
       "Age                              0\n",
       "Concrete compressive strength    0\n",
       "dtype: int64"
      ]
     },
     "execution_count": 5,
     "metadata": {},
     "output_type": "execute_result"
    }
   ],
   "source": [
    "concrete_data.isnull().sum()"
   ]
  },
  {
   "cell_type": "code",
   "execution_count": 6,
   "id": "de4b8eea",
   "metadata": {},
   "outputs": [],
   "source": [
    "#split data into predictors and target\n",
    "concrete_data_columns = concrete_data.columns\n",
    "predictors = concrete_data[concrete_data_columns[concrete_data_columns != 'Concrete compressive strength']]\n",
    "target = concrete_data['Concrete compressive strength']"
   ]
  },
  {
   "cell_type": "code",
   "execution_count": 7,
   "id": "7f72698c",
   "metadata": {},
   "outputs": [
    {
     "data": {
      "text/plain": [
       "0    79.99\n",
       "1    61.89\n",
       "2    40.27\n",
       "3    41.05\n",
       "4    44.30\n",
       "Name: Concrete compressive strength, dtype: float64"
      ]
     },
     "execution_count": 7,
     "metadata": {},
     "output_type": "execute_result"
    }
   ],
   "source": [
    "target.head()"
   ]
  },
  {
   "cell_type": "code",
   "execution_count": 8,
   "id": "2fc354ba",
   "metadata": {},
   "outputs": [
    {
     "data": {
      "text/html": [
       "<div>\n",
       "<style scoped>\n",
       "    .dataframe tbody tr th:only-of-type {\n",
       "        vertical-align: middle;\n",
       "    }\n",
       "\n",
       "    .dataframe tbody tr th {\n",
       "        vertical-align: top;\n",
       "    }\n",
       "\n",
       "    .dataframe thead th {\n",
       "        text-align: right;\n",
       "    }\n",
       "</style>\n",
       "<table border=\"1\" class=\"dataframe\">\n",
       "  <thead>\n",
       "    <tr style=\"text-align: right;\">\n",
       "      <th></th>\n",
       "      <th>Cement</th>\n",
       "      <th>Blast Furnace Slag</th>\n",
       "      <th>Fly Ash</th>\n",
       "      <th>Water</th>\n",
       "      <th>Superplasticizer</th>\n",
       "      <th>Coarse Aggregate</th>\n",
       "      <th>Fine Aggregate</th>\n",
       "      <th>Age</th>\n",
       "    </tr>\n",
       "  </thead>\n",
       "  <tbody>\n",
       "    <tr>\n",
       "      <th>0</th>\n",
       "      <td>540.0</td>\n",
       "      <td>0.0</td>\n",
       "      <td>0.0</td>\n",
       "      <td>162.0</td>\n",
       "      <td>2.5</td>\n",
       "      <td>1040.0</td>\n",
       "      <td>676.0</td>\n",
       "      <td>28</td>\n",
       "    </tr>\n",
       "    <tr>\n",
       "      <th>1</th>\n",
       "      <td>540.0</td>\n",
       "      <td>0.0</td>\n",
       "      <td>0.0</td>\n",
       "      <td>162.0</td>\n",
       "      <td>2.5</td>\n",
       "      <td>1055.0</td>\n",
       "      <td>676.0</td>\n",
       "      <td>28</td>\n",
       "    </tr>\n",
       "    <tr>\n",
       "      <th>2</th>\n",
       "      <td>332.5</td>\n",
       "      <td>142.5</td>\n",
       "      <td>0.0</td>\n",
       "      <td>228.0</td>\n",
       "      <td>0.0</td>\n",
       "      <td>932.0</td>\n",
       "      <td>594.0</td>\n",
       "      <td>270</td>\n",
       "    </tr>\n",
       "    <tr>\n",
       "      <th>3</th>\n",
       "      <td>332.5</td>\n",
       "      <td>142.5</td>\n",
       "      <td>0.0</td>\n",
       "      <td>228.0</td>\n",
       "      <td>0.0</td>\n",
       "      <td>932.0</td>\n",
       "      <td>594.0</td>\n",
       "      <td>365</td>\n",
       "    </tr>\n",
       "    <tr>\n",
       "      <th>4</th>\n",
       "      <td>198.6</td>\n",
       "      <td>132.4</td>\n",
       "      <td>0.0</td>\n",
       "      <td>192.0</td>\n",
       "      <td>0.0</td>\n",
       "      <td>978.4</td>\n",
       "      <td>825.5</td>\n",
       "      <td>360</td>\n",
       "    </tr>\n",
       "  </tbody>\n",
       "</table>\n",
       "</div>"
      ],
      "text/plain": [
       "   Cement   Blast Furnace Slag   Fly Ash  Water    Superplasticizer  \\\n",
       "0    540.0                  0.0      0.0    162.0               2.5   \n",
       "1    540.0                  0.0      0.0    162.0               2.5   \n",
       "2    332.5                142.5      0.0    228.0               0.0   \n",
       "3    332.5                142.5      0.0    228.0               0.0   \n",
       "4    198.6                132.4      0.0    192.0               0.0   \n",
       "\n",
       "   Coarse Aggregate   Fine Aggregate  Age  \n",
       "0             1040.0           676.0   28  \n",
       "1             1055.0           676.0   28  \n",
       "2              932.0           594.0  270  \n",
       "3              932.0           594.0  365  \n",
       "4              978.4           825.5  360  "
      ]
     },
     "execution_count": 8,
     "metadata": {},
     "output_type": "execute_result"
    }
   ],
   "source": [
    "predictors.head()"
   ]
  },
  {
   "cell_type": "markdown",
   "id": "fe64eb9d",
   "metadata": {},
   "source": [
    "# Normalize the data by substracting the mean and dividing by the standard deviation."
   ]
  },
  {
   "cell_type": "code",
   "execution_count": 9,
   "id": "5b37566a",
   "metadata": {},
   "outputs": [
    {
     "data": {
      "text/html": [
       "<div>\n",
       "<style scoped>\n",
       "    .dataframe tbody tr th:only-of-type {\n",
       "        vertical-align: middle;\n",
       "    }\n",
       "\n",
       "    .dataframe tbody tr th {\n",
       "        vertical-align: top;\n",
       "    }\n",
       "\n",
       "    .dataframe thead th {\n",
       "        text-align: right;\n",
       "    }\n",
       "</style>\n",
       "<table border=\"1\" class=\"dataframe\">\n",
       "  <thead>\n",
       "    <tr style=\"text-align: right;\">\n",
       "      <th></th>\n",
       "      <th>Cement</th>\n",
       "      <th>Blast Furnace Slag</th>\n",
       "      <th>Fly Ash</th>\n",
       "      <th>Water</th>\n",
       "      <th>Superplasticizer</th>\n",
       "      <th>Coarse Aggregate</th>\n",
       "      <th>Fine Aggregate</th>\n",
       "      <th>Age</th>\n",
       "    </tr>\n",
       "  </thead>\n",
       "  <tbody>\n",
       "    <tr>\n",
       "      <th>0</th>\n",
       "      <td>2.476712</td>\n",
       "      <td>-0.856472</td>\n",
       "      <td>-0.846733</td>\n",
       "      <td>-0.916319</td>\n",
       "      <td>-0.620147</td>\n",
       "      <td>0.862735</td>\n",
       "      <td>-1.217079</td>\n",
       "      <td>-0.279597</td>\n",
       "    </tr>\n",
       "    <tr>\n",
       "      <th>1</th>\n",
       "      <td>2.476712</td>\n",
       "      <td>-0.856472</td>\n",
       "      <td>-0.846733</td>\n",
       "      <td>-0.916319</td>\n",
       "      <td>-0.620147</td>\n",
       "      <td>1.055651</td>\n",
       "      <td>-1.217079</td>\n",
       "      <td>-0.279597</td>\n",
       "    </tr>\n",
       "    <tr>\n",
       "      <th>2</th>\n",
       "      <td>0.491187</td>\n",
       "      <td>0.795140</td>\n",
       "      <td>-0.846733</td>\n",
       "      <td>2.174405</td>\n",
       "      <td>-1.038638</td>\n",
       "      <td>-0.526262</td>\n",
       "      <td>-2.239829</td>\n",
       "      <td>3.551340</td>\n",
       "    </tr>\n",
       "    <tr>\n",
       "      <th>3</th>\n",
       "      <td>0.491187</td>\n",
       "      <td>0.795140</td>\n",
       "      <td>-0.846733</td>\n",
       "      <td>2.174405</td>\n",
       "      <td>-1.038638</td>\n",
       "      <td>-0.526262</td>\n",
       "      <td>-2.239829</td>\n",
       "      <td>5.055221</td>\n",
       "    </tr>\n",
       "    <tr>\n",
       "      <th>4</th>\n",
       "      <td>-0.790075</td>\n",
       "      <td>0.678079</td>\n",
       "      <td>-0.846733</td>\n",
       "      <td>0.488555</td>\n",
       "      <td>-1.038638</td>\n",
       "      <td>0.070492</td>\n",
       "      <td>0.647569</td>\n",
       "      <td>4.976069</td>\n",
       "    </tr>\n",
       "  </tbody>\n",
       "</table>\n",
       "</div>"
      ],
      "text/plain": [
       "    Cement   Blast Furnace Slag    Fly Ash   Water    Superplasticizer  \\\n",
       "0  2.476712            -0.856472 -0.846733 -0.916319         -0.620147   \n",
       "1  2.476712            -0.856472 -0.846733 -0.916319         -0.620147   \n",
       "2  0.491187             0.795140 -0.846733  2.174405         -1.038638   \n",
       "3  0.491187             0.795140 -0.846733  2.174405         -1.038638   \n",
       "4 -0.790075             0.678079 -0.846733  0.488555         -1.038638   \n",
       "\n",
       "   Coarse Aggregate   Fine Aggregate       Age  \n",
       "0           0.862735       -1.217079 -0.279597  \n",
       "1           1.055651       -1.217079 -0.279597  \n",
       "2          -0.526262       -2.239829  3.551340  \n",
       "3          -0.526262       -2.239829  5.055221  \n",
       "4           0.070492        0.647569  4.976069  "
      ]
     },
     "execution_count": 9,
     "metadata": {},
     "output_type": "execute_result"
    }
   ],
   "source": [
    "predictors_norm = (predictors - predictors.mean()) / predictors.std()\n",
    "predictors_norm.head()"
   ]
  },
  {
   "cell_type": "code",
   "execution_count": 10,
   "id": "91e29f25",
   "metadata": {},
   "outputs": [
    {
     "data": {
      "text/plain": [
       "8"
      ]
     },
     "execution_count": 10,
     "metadata": {},
     "output_type": "execute_result"
    }
   ],
   "source": [
    "n_cols = predictors_norm.shape[1]\n",
    "n_cols"
   ]
  },
  {
   "cell_type": "markdown",
   "id": "d56c77d7",
   "metadata": {},
   "source": [
    "IMPORT KERAS"
   ]
  },
  {
   "cell_type": "code",
   "execution_count": 11,
   "id": "38a583b9",
   "metadata": {},
   "outputs": [],
   "source": [
    "#lets import keras\n",
    "import keras"
   ]
  },
  {
   "cell_type": "code",
   "execution_count": 12,
   "id": "c2f4faaa",
   "metadata": {},
   "outputs": [],
   "source": [
    "from keras.models import Sequential\n",
    "from keras.layers import Dense"
   ]
  },
  {
   "cell_type": "code",
   "execution_count": 13,
   "id": "c21831b7",
   "metadata": {},
   "outputs": [],
   "source": [
    "\n",
    "\n",
    "# define regression model\n",
    "def regression_model():\n",
    "    # create model\n",
    "    model = Sequential()\n",
    "    model.add(Dense(10, activation='relu', input_shape=(n_cols,)))\n",
    "    model.add(Dense(1))\n",
    "    \n",
    "    # compile model\n",
    "    model.compile(optimizer='adam', loss='mean_squared_error')\n",
    "    return model"
   ]
  },
  {
   "cell_type": "code",
   "execution_count": 14,
   "id": "20ad4305",
   "metadata": {},
   "outputs": [],
   "source": [
    "from sklearn.model_selection import train_test_split"
   ]
  },
  {
   "cell_type": "code",
   "execution_count": 15,
   "id": "7b04e970",
   "metadata": {},
   "outputs": [],
   "source": [
    "X_train, X_test, y_train, y_test = train_test_split(predictors, target, test_size=0.3, random_state=42)"
   ]
  },
  {
   "cell_type": "markdown",
   "id": "edae425e",
   "metadata": {},
   "source": [
    "# Train and Test the Network\n",
    "Let's call the function now to create our model."
   ]
  },
  {
   "cell_type": "code",
   "execution_count": 16,
   "id": "ddc44626",
   "metadata": {},
   "outputs": [],
   "source": [
    "model = regression_model()"
   ]
  },
  {
   "cell_type": "code",
   "execution_count": 17,
   "id": "3fe9494d",
   "metadata": {},
   "outputs": [
    {
     "name": "stdout",
     "output_type": "stream",
     "text": [
      "Epoch 1/50\n",
      "23/23 [==============================] - 2s 4ms/step - loss: 350323.3125\n",
      "Epoch 2/50\n",
      "23/23 [==============================] - 0s 4ms/step - loss: 234956.0781\n",
      "Epoch 3/50\n",
      "23/23 [==============================] - 0s 4ms/step - loss: 158391.0938\n",
      "Epoch 4/50\n",
      "23/23 [==============================] - 0s 4ms/step - loss: 109133.7031\n",
      "Epoch 5/50\n",
      "23/23 [==============================] - 0s 3ms/step - loss: 72355.3828\n",
      "Epoch 6/50\n",
      "23/23 [==============================] - 0s 3ms/step - loss: 37514.7461\n",
      "Epoch 7/50\n",
      "23/23 [==============================] - 0s 4ms/step - loss: 14423.5488\n",
      "Epoch 8/50\n",
      "23/23 [==============================] - 0s 3ms/step - loss: 4740.4419\n",
      "Epoch 9/50\n",
      "23/23 [==============================] - 0s 3ms/step - loss: 1985.9126\n",
      "Epoch 10/50\n",
      "23/23 [==============================] - 0s 3ms/step - loss: 1488.3766\n",
      "Epoch 11/50\n",
      "23/23 [==============================] - 0s 3ms/step - loss: 1369.9386\n",
      "Epoch 12/50\n",
      "23/23 [==============================] - 0s 4ms/step - loss: 1296.2660\n",
      "Epoch 13/50\n",
      "23/23 [==============================] - 0s 3ms/step - loss: 1221.6406\n",
      "Epoch 14/50\n",
      "23/23 [==============================] - 0s 3ms/step - loss: 1153.2990\n",
      "Epoch 15/50\n",
      "23/23 [==============================] - 0s 3ms/step - loss: 1085.7637\n",
      "Epoch 16/50\n",
      "23/23 [==============================] - 0s 3ms/step - loss: 1022.2141\n",
      "Epoch 17/50\n",
      "23/23 [==============================] - 0s 3ms/step - loss: 960.7729\n",
      "Epoch 18/50\n",
      "23/23 [==============================] - 0s 3ms/step - loss: 906.0598\n",
      "Epoch 19/50\n",
      "23/23 [==============================] - 0s 4ms/step - loss: 850.8644\n",
      "Epoch 20/50\n",
      "23/23 [==============================] - 0s 3ms/step - loss: 800.2712\n",
      "Epoch 21/50\n",
      "23/23 [==============================] - 0s 3ms/step - loss: 752.9631\n",
      "Epoch 22/50\n",
      "23/23 [==============================] - 0s 3ms/step - loss: 708.4636\n",
      "Epoch 23/50\n",
      "23/23 [==============================] - 0s 4ms/step - loss: 667.7784\n",
      "Epoch 24/50\n",
      "23/23 [==============================] - 0s 4ms/step - loss: 628.0246\n",
      "Epoch 25/50\n",
      "23/23 [==============================] - 0s 3ms/step - loss: 591.8664\n",
      "Epoch 26/50\n",
      "23/23 [==============================] - 0s 4ms/step - loss: 558.0164\n",
      "Epoch 27/50\n",
      "23/23 [==============================] - 0s 3ms/step - loss: 526.9865\n",
      "Epoch 28/50\n",
      "23/23 [==============================] - 0s 3ms/step - loss: 498.5204\n",
      "Epoch 29/50\n",
      "23/23 [==============================] - 0s 3ms/step - loss: 471.0915\n",
      "Epoch 30/50\n",
      "23/23 [==============================] - 0s 4ms/step - loss: 444.8502\n",
      "Epoch 31/50\n",
      "23/23 [==============================] - 0s 4ms/step - loss: 422.4855\n",
      "Epoch 32/50\n",
      "23/23 [==============================] - 0s 3ms/step - loss: 400.8872\n",
      "Epoch 33/50\n",
      "23/23 [==============================] - 0s 3ms/step - loss: 380.4301\n",
      "Epoch 34/50\n",
      "23/23 [==============================] - 0s 4ms/step - loss: 362.2739\n",
      "Epoch 35/50\n",
      "23/23 [==============================] - 0s 4ms/step - loss: 345.6866\n",
      "Epoch 36/50\n",
      "23/23 [==============================] - 0s 3ms/step - loss: 330.4243\n",
      "Epoch 37/50\n",
      "23/23 [==============================] - 0s 3ms/step - loss: 316.0605\n",
      "Epoch 38/50\n",
      "23/23 [==============================] - 0s 3ms/step - loss: 302.7868\n",
      "Epoch 39/50\n",
      "23/23 [==============================] - 0s 3ms/step - loss: 290.6915\n",
      "Epoch 40/50\n",
      "23/23 [==============================] - 0s 3ms/step - loss: 280.2705\n",
      "Epoch 41/50\n",
      "23/23 [==============================] - 0s 3ms/step - loss: 269.8609\n",
      "Epoch 42/50\n",
      "23/23 [==============================] - 0s 3ms/step - loss: 260.6501\n",
      "Epoch 43/50\n",
      "23/23 [==============================] - 0s 4ms/step - loss: 251.9997\n",
      "Epoch 44/50\n",
      "23/23 [==============================] - 0s 3ms/step - loss: 243.7962\n",
      "Epoch 45/50\n",
      "23/23 [==============================] - 0s 3ms/step - loss: 236.8123\n",
      "Epoch 46/50\n",
      "23/23 [==============================] - 0s 3ms/step - loss: 229.2666\n",
      "Epoch 47/50\n",
      "23/23 [==============================] - 0s 4ms/step - loss: 223.1170\n",
      "Epoch 48/50\n",
      "23/23 [==============================] - 0s 3ms/step - loss: 216.9253\n",
      "Epoch 49/50\n",
      "23/23 [==============================] - 0s 4ms/step - loss: 211.3709\n",
      "Epoch 50/50\n",
      "23/23 [==============================] - 0s 3ms/step - loss: 206.1688\n"
     ]
    },
    {
     "data": {
      "text/plain": [
       "<keras.callbacks.History at 0x18d0bb7b4c0>"
      ]
     },
     "execution_count": 17,
     "metadata": {},
     "output_type": "execute_result"
    }
   ],
   "source": [
    "# fit the model\n",
    "epochs = 50\n",
    "model.fit(X_train, y_train, epochs=epochs, verbose=1)"
   ]
  },
  {
   "cell_type": "code",
   "execution_count": 18,
   "id": "c4c442ac",
   "metadata": {},
   "outputs": [
    {
     "name": "stdout",
     "output_type": "stream",
     "text": [
      "10/10 [==============================] - 0s 4ms/step - loss: 181.8181\n",
      "10/10 [==============================] - 0s 3ms/step\n"
     ]
    },
    {
     "data": {
      "text/plain": [
       "181.8180694580078"
      ]
     },
     "execution_count": 18,
     "metadata": {},
     "output_type": "execute_result"
    }
   ],
   "source": [
    "loss_val = model.evaluate(X_test, y_test)\n",
    "y_pred = model.predict(X_test)\n",
    "loss_val"
   ]
  },
  {
   "cell_type": "markdown",
   "id": "bebe6496",
   "metadata": {},
   "source": [
    "Now we need to compute the mean squared error between the predicted concrete strength and the actual concrete strength.\n",
    "\n",
    "Let's import the mean_squared_error function from Scikit-learn."
   ]
  },
  {
   "cell_type": "code",
   "execution_count": 19,
   "id": "376c4e70",
   "metadata": {},
   "outputs": [],
   "source": [
    "from sklearn.metrics import mean_squared_error"
   ]
  },
  {
   "cell_type": "code",
   "execution_count": 20,
   "id": "c00d0222",
   "metadata": {},
   "outputs": [
    {
     "name": "stdout",
     "output_type": "stream",
     "text": [
      "181.81803895340224 0.0\n"
     ]
    }
   ],
   "source": [
    "mean_square_error = mean_squared_error(y_test, y_pred)\n",
    "mean = np.mean(mean_square_error)\n",
    "standard_deviation = np.std(mean_square_error)\n",
    "print(mean, standard_deviation)"
   ]
  },
  {
   "cell_type": "code",
   "execution_count": 21,
   "id": "db3e6ce8",
   "metadata": {},
   "outputs": [
    {
     "name": "stdout",
     "output_type": "stream",
     "text": [
      "MSE 1: 114.76885986328125\n",
      "10/10 [==============================] - 0s 4ms/step\n",
      "MSE 2: 120.85908508300781\n",
      "10/10 [==============================] - 0s 4ms/step\n",
      "MSE 3: 98.17082214355469\n",
      "10/10 [==============================] - 0s 3ms/step\n",
      "MSE 4: 99.14783477783203\n",
      "10/10 [==============================] - 0s 3ms/step\n",
      "MSE 5: 108.04864501953125\n",
      "10/10 [==============================] - 0s 3ms/step\n",
      "MSE 6: 87.31494903564453\n",
      "10/10 [==============================] - 0s 4ms/step\n",
      "MSE 7: 94.41604614257812\n",
      "10/10 [==============================] - 0s 3ms/step\n",
      "MSE 8: 75.19998931884766\n",
      "10/10 [==============================] - 0s 3ms/step\n",
      "MSE 9: 77.0973892211914\n",
      "10/10 [==============================] - 0s 3ms/step\n",
      "MSE 10: 70.42799377441406\n",
      "10/10 [==============================] - 0s 3ms/step\n",
      "MSE 11: 60.735233306884766\n",
      "10/10 [==============================] - 0s 3ms/step\n",
      "MSE 12: 58.67384719848633\n",
      "10/10 [==============================] - 0s 3ms/step\n",
      "MSE 13: 69.1636962890625\n",
      "10/10 [==============================] - 0s 3ms/step\n",
      "MSE 14: 62.60763168334961\n",
      "10/10 [==============================] - 0s 4ms/step\n",
      "MSE 15: 55.59962844848633\n",
      "10/10 [==============================] - 0s 3ms/step\n",
      "MSE 16: 46.982723236083984\n",
      "10/10 [==============================] - 0s 5ms/step\n",
      "MSE 17: 47.169776916503906\n",
      "10/10 [==============================] - 0s 3ms/step\n",
      "MSE 18: 48.686866760253906\n",
      "10/10 [==============================] - 0s 3ms/step\n",
      "MSE 19: 42.632850646972656\n",
      "10/10 [==============================] - 0s 3ms/step\n",
      "MSE 20: 44.6351432800293\n",
      "10/10 [==============================] - 0s 3ms/step\n",
      "MSE 21: 42.489234924316406\n",
      "10/10 [==============================] - 0s 3ms/step\n",
      "MSE 22: 45.667877197265625\n",
      "10/10 [==============================] - 0s 3ms/step\n",
      "MSE 23: 46.10684585571289\n",
      "10/10 [==============================] - 0s 3ms/step\n",
      "MSE 24: 46.577980041503906\n",
      "10/10 [==============================] - 0s 3ms/step\n",
      "MSE 25: 50.59233093261719\n",
      "10/10 [==============================] - 0s 3ms/step\n",
      "MSE 26: 47.794288635253906\n",
      "10/10 [==============================] - 0s 3ms/step\n",
      "MSE 27: 47.629634857177734\n",
      "10/10 [==============================] - 0s 2ms/step\n",
      "MSE 28: 47.92109680175781\n",
      "10/10 [==============================] - 0s 2ms/step\n",
      "MSE 29: 48.821109771728516\n",
      "10/10 [==============================] - 0s 3ms/step\n",
      "MSE 30: 48.04669189453125\n",
      "10/10 [==============================] - 0s 3ms/step\n",
      "MSE 31: 54.5465087890625\n",
      "10/10 [==============================] - 0s 3ms/step\n",
      "MSE 32: 46.74705123901367\n",
      "10/10 [==============================] - 0s 3ms/step\n",
      "MSE 33: 47.950199127197266\n",
      "10/10 [==============================] - 0s 4ms/step\n",
      "MSE 34: 44.09710693359375\n",
      "10/10 [==============================] - 0s 4ms/step\n",
      "MSE 35: 43.4356689453125\n",
      "10/10 [==============================] - 0s 4ms/step\n",
      "MSE 36: 56.15409469604492\n",
      "10/10 [==============================] - 0s 3ms/step\n",
      "MSE 37: 52.690731048583984\n",
      "10/10 [==============================] - 0s 3ms/step\n",
      "MSE 38: 48.288848876953125\n",
      "10/10 [==============================] - 0s 3ms/step\n",
      "MSE 39: 48.01972579956055\n",
      "10/10 [==============================] - 0s 2ms/step\n",
      "MSE 40: 45.0275993347168\n",
      "10/10 [==============================] - 0s 4ms/step\n",
      "MSE 41: 52.99479293823242\n",
      "10/10 [==============================] - 0s 4ms/step\n",
      "MSE 42: 44.82015609741211\n",
      "10/10 [==============================] - 0s 4ms/step\n",
      "MSE 43: 44.884769439697266\n",
      "10/10 [==============================] - 0s 4ms/step\n",
      "MSE 44: 50.16436004638672\n",
      "10/10 [==============================] - 0s 3ms/step\n",
      "MSE 45: 55.509620666503906\n",
      "10/10 [==============================] - 0s 4ms/step\n",
      "MSE 46: 48.50404357910156\n",
      "10/10 [==============================] - 0s 3ms/step\n",
      "MSE 47: 47.35198974609375\n",
      "10/10 [==============================] - 0s 4ms/step\n",
      "MSE 48: 61.941654205322266\n",
      "10/10 [==============================] - 0s 3ms/step\n",
      "MSE 49: 46.80959701538086\n",
      "10/10 [==============================] - 0s 3ms/step\n",
      "MSE 50: 50.84891128540039\n",
      "10/10 [==============================] - 0s 4ms/step\n",
      "\n",
      "\n",
      "Below is the mean and standard deviation of 50 mean squared errors without normalized data. Total number of epochs for each training is: 50\n",
      "\n",
      "Mean: 58.89547033766485\n",
      "Standard Deviation: 19.967194947315086\n"
     ]
    }
   ],
   "source": [
    "total_mean_squared_errors = 50\n",
    "epochs = 50\n",
    "mean_squared_errors = []\n",
    "for i in range(0, total_mean_squared_errors):\n",
    "    X_train, X_test, y_train, y_test = train_test_split(predictors, target, test_size=0.3, random_state=i)\n",
    "    model.fit(X_train, y_train, epochs=epochs, verbose=0)\n",
    "    MSE = model.evaluate(X_test, y_test, verbose=0)\n",
    "    print(\"MSE \"+str(i+1)+\": \"+str(MSE))\n",
    "    y_pred = model.predict(X_test)\n",
    "    mean_square_error = mean_squared_error(y_test, y_pred)\n",
    "    mean_squared_errors.append(mean_square_error)\n",
    "\n",
    "mean_squared_errors = np.array(mean_squared_errors)\n",
    "mean = np.mean(mean_squared_errors)\n",
    "standard_deviation = np.std(mean_squared_errors)\n",
    "\n",
    "print('\\n')\n",
    "print(\"Below is the mean and standard deviation of \" +str(total_mean_squared_errors) + \" mean squared errors without normalized data. Total number of epochs for each training is: \" +str(epochs) + \"\\n\")\n",
    "print(\"Mean: \"+str(mean))\n",
    "print(\"Standard Deviation: \"+str(standard_deviation))"
   ]
  },
  {
   "cell_type": "markdown",
   "id": "947070f6",
   "metadata": {},
   "source": [
    "the mean of the mean squared errors compare to that from Step A is 58.90-59.50= -0.6\n"
   ]
  },
  {
   "cell_type": "code",
   "execution_count": null,
   "id": "1f4a081c",
   "metadata": {},
   "outputs": [],
   "source": []
  },
  {
   "cell_type": "code",
   "execution_count": null,
   "id": "daa8561c",
   "metadata": {},
   "outputs": [],
   "source": []
  },
  {
   "cell_type": "code",
   "execution_count": null,
   "id": "ce590b0c",
   "metadata": {},
   "outputs": [],
   "source": []
  }
 ],
 "metadata": {
  "kernelspec": {
   "display_name": "Python 3",
   "language": "python",
   "name": "python3"
  },
  "language_info": {
   "codemirror_mode": {
    "name": "ipython",
    "version": 3
   },
   "file_extension": ".py",
   "mimetype": "text/x-python",
   "name": "python",
   "nbconvert_exporter": "python",
   "pygments_lexer": "ipython3",
   "version": "3.8.8"
  }
 },
 "nbformat": 4,
 "nbformat_minor": 5
}
