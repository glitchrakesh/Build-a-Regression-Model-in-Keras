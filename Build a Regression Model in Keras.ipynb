{
 "cells": [
  {
   "cell_type": "markdown",
   "id": "bf890cc5",
   "metadata": {},
   "source": [
    "IMPORT PANDAS AND NUMPY LIBRARIES"
   ]
  },
  {
   "cell_type": "code",
   "execution_count": 1,
   "id": "c357066b",
   "metadata": {},
   "outputs": [],
   "source": [
    "import pandas as pd\n",
    "import numpy as np"
   ]
  },
  {
   "cell_type": "code",
   "execution_count": 2,
   "id": "51d3d179",
   "metadata": {
    "scrolled": true
   },
   "outputs": [
    {
     "data": {
      "text/html": [
       "<div>\n",
       "<style scoped>\n",
       "    .dataframe tbody tr th:only-of-type {\n",
       "        vertical-align: middle;\n",
       "    }\n",
       "\n",
       "    .dataframe tbody tr th {\n",
       "        vertical-align: top;\n",
       "    }\n",
       "\n",
       "    .dataframe thead th {\n",
       "        text-align: right;\n",
       "    }\n",
       "</style>\n",
       "<table border=\"1\" class=\"dataframe\">\n",
       "  <thead>\n",
       "    <tr style=\"text-align: right;\">\n",
       "      <th></th>\n",
       "      <th>Cement</th>\n",
       "      <th>Blast Furnace Slag</th>\n",
       "      <th>Fly Ash</th>\n",
       "      <th>Water</th>\n",
       "      <th>Superplasticizer</th>\n",
       "      <th>Coarse Aggregate</th>\n",
       "      <th>Fine Aggregate</th>\n",
       "      <th>Age</th>\n",
       "      <th>Concrete compressive strength</th>\n",
       "    </tr>\n",
       "  </thead>\n",
       "  <tbody>\n",
       "    <tr>\n",
       "      <th>0</th>\n",
       "      <td>540.0</td>\n",
       "      <td>0.0</td>\n",
       "      <td>0.0</td>\n",
       "      <td>162.0</td>\n",
       "      <td>2.5</td>\n",
       "      <td>1040.0</td>\n",
       "      <td>676.0</td>\n",
       "      <td>28</td>\n",
       "      <td>79.99</td>\n",
       "    </tr>\n",
       "    <tr>\n",
       "      <th>1</th>\n",
       "      <td>540.0</td>\n",
       "      <td>0.0</td>\n",
       "      <td>0.0</td>\n",
       "      <td>162.0</td>\n",
       "      <td>2.5</td>\n",
       "      <td>1055.0</td>\n",
       "      <td>676.0</td>\n",
       "      <td>28</td>\n",
       "      <td>61.89</td>\n",
       "    </tr>\n",
       "    <tr>\n",
       "      <th>2</th>\n",
       "      <td>332.5</td>\n",
       "      <td>142.5</td>\n",
       "      <td>0.0</td>\n",
       "      <td>228.0</td>\n",
       "      <td>0.0</td>\n",
       "      <td>932.0</td>\n",
       "      <td>594.0</td>\n",
       "      <td>270</td>\n",
       "      <td>40.27</td>\n",
       "    </tr>\n",
       "    <tr>\n",
       "      <th>3</th>\n",
       "      <td>332.5</td>\n",
       "      <td>142.5</td>\n",
       "      <td>0.0</td>\n",
       "      <td>228.0</td>\n",
       "      <td>0.0</td>\n",
       "      <td>932.0</td>\n",
       "      <td>594.0</td>\n",
       "      <td>365</td>\n",
       "      <td>41.05</td>\n",
       "    </tr>\n",
       "    <tr>\n",
       "      <th>4</th>\n",
       "      <td>198.6</td>\n",
       "      <td>132.4</td>\n",
       "      <td>0.0</td>\n",
       "      <td>192.0</td>\n",
       "      <td>0.0</td>\n",
       "      <td>978.4</td>\n",
       "      <td>825.5</td>\n",
       "      <td>360</td>\n",
       "      <td>44.30</td>\n",
       "    </tr>\n",
       "  </tbody>\n",
       "</table>\n",
       "</div>"
      ],
      "text/plain": [
       "   Cement   Blast Furnace Slag   Fly Ash  Water    Superplasticizer  \\\n",
       "0    540.0                  0.0      0.0    162.0               2.5   \n",
       "1    540.0                  0.0      0.0    162.0               2.5   \n",
       "2    332.5                142.5      0.0    228.0               0.0   \n",
       "3    332.5                142.5      0.0    228.0               0.0   \n",
       "4    198.6                132.4      0.0    192.0               0.0   \n",
       "\n",
       "   Coarse Aggregate   Fine Aggregate  Age  Concrete compressive strength  \n",
       "0             1040.0           676.0   28                          79.99  \n",
       "1             1055.0           676.0   28                          61.89  \n",
       "2              932.0           594.0  270                          40.27  \n",
       "3              932.0           594.0  365                          41.05  \n",
       "4              978.4           825.5  360                          44.30  "
      ]
     },
     "execution_count": 2,
     "metadata": {},
     "output_type": "execute_result"
    }
   ],
   "source": [
    "concrete_data = pd.read_csv('concrete_data.csv')\n",
    "concrete_data.head()"
   ]
  },
  {
   "cell_type": "code",
   "execution_count": 3,
   "id": "61743a6b",
   "metadata": {},
   "outputs": [
    {
     "data": {
      "text/plain": [
       "(1030, 9)"
      ]
     },
     "execution_count": 3,
     "metadata": {},
     "output_type": "execute_result"
    }
   ],
   "source": [
    "#how many data points are there\n",
    "concrete_data.shape"
   ]
  },
  {
   "cell_type": "code",
   "execution_count": 4,
   "id": "facb6eff",
   "metadata": {},
   "outputs": [
    {
     "data": {
      "text/html": [
       "<div>\n",
       "<style scoped>\n",
       "    .dataframe tbody tr th:only-of-type {\n",
       "        vertical-align: middle;\n",
       "    }\n",
       "\n",
       "    .dataframe tbody tr th {\n",
       "        vertical-align: top;\n",
       "    }\n",
       "\n",
       "    .dataframe thead th {\n",
       "        text-align: right;\n",
       "    }\n",
       "</style>\n",
       "<table border=\"1\" class=\"dataframe\">\n",
       "  <thead>\n",
       "    <tr style=\"text-align: right;\">\n",
       "      <th></th>\n",
       "      <th>Cement</th>\n",
       "      <th>Blast Furnace Slag</th>\n",
       "      <th>Fly Ash</th>\n",
       "      <th>Water</th>\n",
       "      <th>Superplasticizer</th>\n",
       "      <th>Coarse Aggregate</th>\n",
       "      <th>Fine Aggregate</th>\n",
       "      <th>Age</th>\n",
       "      <th>Concrete compressive strength</th>\n",
       "    </tr>\n",
       "  </thead>\n",
       "  <tbody>\n",
       "    <tr>\n",
       "      <th>count</th>\n",
       "      <td>1030.000000</td>\n",
       "      <td>1030.000000</td>\n",
       "      <td>1030.000000</td>\n",
       "      <td>1030.000000</td>\n",
       "      <td>1030.000000</td>\n",
       "      <td>1030.000000</td>\n",
       "      <td>1030.000000</td>\n",
       "      <td>1030.000000</td>\n",
       "      <td>1030.000000</td>\n",
       "    </tr>\n",
       "    <tr>\n",
       "      <th>mean</th>\n",
       "      <td>281.167864</td>\n",
       "      <td>73.895825</td>\n",
       "      <td>54.188350</td>\n",
       "      <td>181.567282</td>\n",
       "      <td>6.204660</td>\n",
       "      <td>972.918932</td>\n",
       "      <td>773.580485</td>\n",
       "      <td>45.662136</td>\n",
       "      <td>35.817961</td>\n",
       "    </tr>\n",
       "    <tr>\n",
       "      <th>std</th>\n",
       "      <td>104.506364</td>\n",
       "      <td>86.279342</td>\n",
       "      <td>63.997004</td>\n",
       "      <td>21.354219</td>\n",
       "      <td>5.973841</td>\n",
       "      <td>77.753954</td>\n",
       "      <td>80.175980</td>\n",
       "      <td>63.169912</td>\n",
       "      <td>16.705742</td>\n",
       "    </tr>\n",
       "    <tr>\n",
       "      <th>min</th>\n",
       "      <td>102.000000</td>\n",
       "      <td>0.000000</td>\n",
       "      <td>0.000000</td>\n",
       "      <td>121.800000</td>\n",
       "      <td>0.000000</td>\n",
       "      <td>801.000000</td>\n",
       "      <td>594.000000</td>\n",
       "      <td>1.000000</td>\n",
       "      <td>2.330000</td>\n",
       "    </tr>\n",
       "    <tr>\n",
       "      <th>25%</th>\n",
       "      <td>192.375000</td>\n",
       "      <td>0.000000</td>\n",
       "      <td>0.000000</td>\n",
       "      <td>164.900000</td>\n",
       "      <td>0.000000</td>\n",
       "      <td>932.000000</td>\n",
       "      <td>730.950000</td>\n",
       "      <td>7.000000</td>\n",
       "      <td>23.710000</td>\n",
       "    </tr>\n",
       "    <tr>\n",
       "      <th>50%</th>\n",
       "      <td>272.900000</td>\n",
       "      <td>22.000000</td>\n",
       "      <td>0.000000</td>\n",
       "      <td>185.000000</td>\n",
       "      <td>6.400000</td>\n",
       "      <td>968.000000</td>\n",
       "      <td>779.500000</td>\n",
       "      <td>28.000000</td>\n",
       "      <td>34.445000</td>\n",
       "    </tr>\n",
       "    <tr>\n",
       "      <th>75%</th>\n",
       "      <td>350.000000</td>\n",
       "      <td>142.950000</td>\n",
       "      <td>118.300000</td>\n",
       "      <td>192.000000</td>\n",
       "      <td>10.200000</td>\n",
       "      <td>1029.400000</td>\n",
       "      <td>824.000000</td>\n",
       "      <td>56.000000</td>\n",
       "      <td>46.135000</td>\n",
       "    </tr>\n",
       "    <tr>\n",
       "      <th>max</th>\n",
       "      <td>540.000000</td>\n",
       "      <td>359.400000</td>\n",
       "      <td>200.100000</td>\n",
       "      <td>247.000000</td>\n",
       "      <td>32.200000</td>\n",
       "      <td>1145.000000</td>\n",
       "      <td>992.600000</td>\n",
       "      <td>365.000000</td>\n",
       "      <td>82.600000</td>\n",
       "    </tr>\n",
       "  </tbody>\n",
       "</table>\n",
       "</div>"
      ],
      "text/plain": [
       "           Cement   Blast Furnace Slag       Fly Ash      Water    \\\n",
       "count  1030.000000          1030.000000  1030.000000  1030.000000   \n",
       "mean    281.167864            73.895825    54.188350   181.567282   \n",
       "std     104.506364            86.279342    63.997004    21.354219   \n",
       "min     102.000000             0.000000     0.000000   121.800000   \n",
       "25%     192.375000             0.000000     0.000000   164.900000   \n",
       "50%     272.900000            22.000000     0.000000   185.000000   \n",
       "75%     350.000000           142.950000   118.300000   192.000000   \n",
       "max     540.000000           359.400000   200.100000   247.000000   \n",
       "\n",
       "       Superplasticizer  Coarse Aggregate   Fine Aggregate          Age  \\\n",
       "count       1030.000000        1030.000000     1030.000000  1030.000000   \n",
       "mean           6.204660         972.918932      773.580485    45.662136   \n",
       "std            5.973841          77.753954       80.175980    63.169912   \n",
       "min            0.000000         801.000000      594.000000     1.000000   \n",
       "25%            0.000000         932.000000      730.950000     7.000000   \n",
       "50%            6.400000         968.000000      779.500000    28.000000   \n",
       "75%           10.200000        1029.400000      824.000000    56.000000   \n",
       "max           32.200000        1145.000000      992.600000   365.000000   \n",
       "\n",
       "       Concrete compressive strength  \n",
       "count                    1030.000000  \n",
       "mean                       35.817961  \n",
       "std                        16.705742  \n",
       "min                         2.330000  \n",
       "25%                        23.710000  \n",
       "50%                        34.445000  \n",
       "75%                        46.135000  \n",
       "max                        82.600000  "
      ]
     },
     "execution_count": 4,
     "metadata": {},
     "output_type": "execute_result"
    }
   ],
   "source": [
    "concrete_data.describe()"
   ]
  },
  {
   "cell_type": "code",
   "execution_count": 5,
   "id": "e7254764",
   "metadata": {},
   "outputs": [
    {
     "data": {
      "text/plain": [
       "Cement                           0\n",
       "Blast Furnace Slag               0\n",
       "Fly Ash                          0\n",
       "Water                            0\n",
       "Superplasticizer                 0\n",
       "Coarse Aggregate                 0\n",
       "Fine Aggregate                   0\n",
       "Age                              0\n",
       "Concrete compressive strength    0\n",
       "dtype: int64"
      ]
     },
     "execution_count": 5,
     "metadata": {},
     "output_type": "execute_result"
    }
   ],
   "source": [
    "concrete_data.isnull().sum()"
   ]
  },
  {
   "cell_type": "code",
   "execution_count": 6,
   "id": "de4b8eea",
   "metadata": {},
   "outputs": [],
   "source": [
    "#split data into predictors and target\n",
    "concrete_data_columns = concrete_data.columns\n",
    "predictors = concrete_data[concrete_data_columns[concrete_data_columns != 'Concrete compressive strength']]\n",
    "target = concrete_data['Concrete compressive strength']"
   ]
  },
  {
   "cell_type": "code",
   "execution_count": 7,
   "id": "7f72698c",
   "metadata": {},
   "outputs": [
    {
     "data": {
      "text/plain": [
       "0    79.99\n",
       "1    61.89\n",
       "2    40.27\n",
       "3    41.05\n",
       "4    44.30\n",
       "Name: Concrete compressive strength, dtype: float64"
      ]
     },
     "execution_count": 7,
     "metadata": {},
     "output_type": "execute_result"
    }
   ],
   "source": [
    "target.head()"
   ]
  },
  {
   "cell_type": "code",
   "execution_count": 8,
   "id": "2fc354ba",
   "metadata": {},
   "outputs": [
    {
     "data": {
      "text/html": [
       "<div>\n",
       "<style scoped>\n",
       "    .dataframe tbody tr th:only-of-type {\n",
       "        vertical-align: middle;\n",
       "    }\n",
       "\n",
       "    .dataframe tbody tr th {\n",
       "        vertical-align: top;\n",
       "    }\n",
       "\n",
       "    .dataframe thead th {\n",
       "        text-align: right;\n",
       "    }\n",
       "</style>\n",
       "<table border=\"1\" class=\"dataframe\">\n",
       "  <thead>\n",
       "    <tr style=\"text-align: right;\">\n",
       "      <th></th>\n",
       "      <th>Cement</th>\n",
       "      <th>Blast Furnace Slag</th>\n",
       "      <th>Fly Ash</th>\n",
       "      <th>Water</th>\n",
       "      <th>Superplasticizer</th>\n",
       "      <th>Coarse Aggregate</th>\n",
       "      <th>Fine Aggregate</th>\n",
       "      <th>Age</th>\n",
       "    </tr>\n",
       "  </thead>\n",
       "  <tbody>\n",
       "    <tr>\n",
       "      <th>0</th>\n",
       "      <td>540.0</td>\n",
       "      <td>0.0</td>\n",
       "      <td>0.0</td>\n",
       "      <td>162.0</td>\n",
       "      <td>2.5</td>\n",
       "      <td>1040.0</td>\n",
       "      <td>676.0</td>\n",
       "      <td>28</td>\n",
       "    </tr>\n",
       "    <tr>\n",
       "      <th>1</th>\n",
       "      <td>540.0</td>\n",
       "      <td>0.0</td>\n",
       "      <td>0.0</td>\n",
       "      <td>162.0</td>\n",
       "      <td>2.5</td>\n",
       "      <td>1055.0</td>\n",
       "      <td>676.0</td>\n",
       "      <td>28</td>\n",
       "    </tr>\n",
       "    <tr>\n",
       "      <th>2</th>\n",
       "      <td>332.5</td>\n",
       "      <td>142.5</td>\n",
       "      <td>0.0</td>\n",
       "      <td>228.0</td>\n",
       "      <td>0.0</td>\n",
       "      <td>932.0</td>\n",
       "      <td>594.0</td>\n",
       "      <td>270</td>\n",
       "    </tr>\n",
       "    <tr>\n",
       "      <th>3</th>\n",
       "      <td>332.5</td>\n",
       "      <td>142.5</td>\n",
       "      <td>0.0</td>\n",
       "      <td>228.0</td>\n",
       "      <td>0.0</td>\n",
       "      <td>932.0</td>\n",
       "      <td>594.0</td>\n",
       "      <td>365</td>\n",
       "    </tr>\n",
       "    <tr>\n",
       "      <th>4</th>\n",
       "      <td>198.6</td>\n",
       "      <td>132.4</td>\n",
       "      <td>0.0</td>\n",
       "      <td>192.0</td>\n",
       "      <td>0.0</td>\n",
       "      <td>978.4</td>\n",
       "      <td>825.5</td>\n",
       "      <td>360</td>\n",
       "    </tr>\n",
       "  </tbody>\n",
       "</table>\n",
       "</div>"
      ],
      "text/plain": [
       "   Cement   Blast Furnace Slag   Fly Ash  Water    Superplasticizer  \\\n",
       "0    540.0                  0.0      0.0    162.0               2.5   \n",
       "1    540.0                  0.0      0.0    162.0               2.5   \n",
       "2    332.5                142.5      0.0    228.0               0.0   \n",
       "3    332.5                142.5      0.0    228.0               0.0   \n",
       "4    198.6                132.4      0.0    192.0               0.0   \n",
       "\n",
       "   Coarse Aggregate   Fine Aggregate  Age  \n",
       "0             1040.0           676.0   28  \n",
       "1             1055.0           676.0   28  \n",
       "2              932.0           594.0  270  \n",
       "3              932.0           594.0  365  \n",
       "4              978.4           825.5  360  "
      ]
     },
     "execution_count": 8,
     "metadata": {},
     "output_type": "execute_result"
    }
   ],
   "source": [
    "predictors.head()"
   ]
  },
  {
   "cell_type": "code",
   "execution_count": 30,
   "id": "91e29f25",
   "metadata": {},
   "outputs": [
    {
     "data": {
      "text/plain": [
       "8"
      ]
     },
     "execution_count": 30,
     "metadata": {},
     "output_type": "execute_result"
    }
   ],
   "source": [
    "n_cols = predictors.shape[1]\n",
    "n_cols"
   ]
  },
  {
   "cell_type": "markdown",
   "id": "d56c77d7",
   "metadata": {},
   "source": [
    "IMPORT KERAS"
   ]
  },
  {
   "cell_type": "code",
   "execution_count": 37,
   "id": "38a583b9",
   "metadata": {},
   "outputs": [],
   "source": [
    "#lets import keras\n",
    "import keras"
   ]
  },
  {
   "cell_type": "code",
   "execution_count": 38,
   "id": "c2f4faaa",
   "metadata": {},
   "outputs": [],
   "source": [
    "from keras.models import Sequential\n",
    "from keras.layers import Dense"
   ]
  },
  {
   "cell_type": "code",
   "execution_count": 43,
   "id": "c21831b7",
   "metadata": {},
   "outputs": [],
   "source": [
    "\n",
    "\n",
    "# define regression model\n",
    "def regression_model():\n",
    "    # create model\n",
    "    model = Sequential()\n",
    "    model.add(Dense(10, activation='relu', input_shape=(n_cols,)))\n",
    "    model.add(Dense(1))\n",
    "    \n",
    "    # compile model\n",
    "    model.compile(optimizer='adam', loss='mean_squared_error')\n",
    "    return model"
   ]
  },
  {
   "cell_type": "code",
   "execution_count": 44,
   "id": "20ad4305",
   "metadata": {},
   "outputs": [],
   "source": [
    "from sklearn.model_selection import train_test_split"
   ]
  },
  {
   "cell_type": "code",
   "execution_count": 45,
   "id": "7b04e970",
   "metadata": {},
   "outputs": [],
   "source": [
    "X_train, X_test, y_train, y_test = train_test_split(predictors, target, test_size=0.3, random_state=42)"
   ]
  },
  {
   "cell_type": "markdown",
   "id": "6ba07b37",
   "metadata": {},
   "source": [
    "# Train and Test the Network\n",
    "Let's call the function now to create our model."
   ]
  },
  {
   "cell_type": "code",
   "execution_count": 48,
   "id": "cf98691a",
   "metadata": {},
   "outputs": [],
   "source": [
    "model = regression_model()"
   ]
  },
  {
   "cell_type": "code",
   "execution_count": 49,
   "id": "1531cca2",
   "metadata": {},
   "outputs": [
    {
     "name": "stdout",
     "output_type": "stream",
     "text": [
      "Epoch 1/50\n",
      "23/23 [==============================] - 2s 4ms/step - loss: 6307.6836\n",
      "Epoch 2/50\n",
      "23/23 [==============================] - 0s 5ms/step - loss: 3433.8506\n",
      "Epoch 3/50\n",
      "23/23 [==============================] - 0s 4ms/step - loss: 2074.4148\n",
      "Epoch 4/50\n",
      "23/23 [==============================] - 0s 4ms/step - loss: 1384.2554\n",
      "Epoch 5/50\n",
      "23/23 [==============================] - 0s 4ms/step - loss: 985.4804\n",
      "Epoch 6/50\n",
      "23/23 [==============================] - 0s 5ms/step - loss: 727.4224\n",
      "Epoch 7/50\n",
      "23/23 [==============================] - 0s 4ms/step - loss: 581.9581\n",
      "Epoch 8/50\n",
      "23/23 [==============================] - 0s 4ms/step - loss: 504.5523\n",
      "Epoch 9/50\n",
      "23/23 [==============================] - 0s 3ms/step - loss: 436.1534\n",
      "Epoch 10/50\n",
      "23/23 [==============================] - 0s 4ms/step - loss: 391.4423\n",
      "Epoch 11/50\n",
      "23/23 [==============================] - 0s 3ms/step - loss: 351.8240\n",
      "Epoch 12/50\n",
      "23/23 [==============================] - 0s 5ms/step - loss: 314.8170\n",
      "Epoch 13/50\n",
      "23/23 [==============================] - 0s 5ms/step - loss: 286.6624\n",
      "Epoch 14/50\n",
      "23/23 [==============================] - 0s 4ms/step - loss: 262.5988\n",
      "Epoch 15/50\n",
      "23/23 [==============================] - 0s 3ms/step - loss: 245.0858\n",
      "Epoch 16/50\n",
      "23/23 [==============================] - 0s 4ms/step - loss: 228.1659\n",
      "Epoch 17/50\n",
      "23/23 [==============================] - 0s 4ms/step - loss: 212.4564\n",
      "Epoch 18/50\n",
      "23/23 [==============================] - 0s 4ms/step - loss: 204.1640\n",
      "Epoch 19/50\n",
      "23/23 [==============================] - 0s 3ms/step - loss: 192.7169\n",
      "Epoch 20/50\n",
      "23/23 [==============================] - 0s 3ms/step - loss: 184.5085\n",
      "Epoch 21/50\n",
      "23/23 [==============================] - 0s 3ms/step - loss: 177.0769\n",
      "Epoch 22/50\n",
      "23/23 [==============================] - 0s 3ms/step - loss: 173.0222\n",
      "Epoch 23/50\n",
      "23/23 [==============================] - 0s 3ms/step - loss: 166.7453\n",
      "Epoch 24/50\n",
      "23/23 [==============================] - 0s 4ms/step - loss: 160.7158\n",
      "Epoch 25/50\n",
      "23/23 [==============================] - 0s 3ms/step - loss: 157.5588\n",
      "Epoch 26/50\n",
      "23/23 [==============================] - 0s 3ms/step - loss: 152.2921\n",
      "Epoch 27/50\n",
      "23/23 [==============================] - 0s 3ms/step - loss: 147.3983\n",
      "Epoch 28/50\n",
      "23/23 [==============================] - 0s 4ms/step - loss: 143.7406\n",
      "Epoch 29/50\n",
      "23/23 [==============================] - 0s 3ms/step - loss: 140.5952\n",
      "Epoch 30/50\n",
      "23/23 [==============================] - 0s 3ms/step - loss: 138.4664\n",
      "Epoch 31/50\n",
      "23/23 [==============================] - 0s 3ms/step - loss: 137.4431\n",
      "Epoch 32/50\n",
      "23/23 [==============================] - 0s 3ms/step - loss: 133.9414\n",
      "Epoch 33/50\n",
      "23/23 [==============================] - 0s 3ms/step - loss: 131.0723\n",
      "Epoch 34/50\n",
      "23/23 [==============================] - 0s 3ms/step - loss: 129.3962\n",
      "Epoch 35/50\n",
      "23/23 [==============================] - 0s 3ms/step - loss: 129.6859\n",
      "Epoch 36/50\n",
      "23/23 [==============================] - 0s 3ms/step - loss: 126.4137\n",
      "Epoch 37/50\n",
      "23/23 [==============================] - 0s 3ms/step - loss: 124.6708\n",
      "Epoch 38/50\n",
      "23/23 [==============================] - 0s 3ms/step - loss: 122.6040\n",
      "Epoch 39/50\n",
      "23/23 [==============================] - 0s 3ms/step - loss: 121.4215\n",
      "Epoch 40/50\n",
      "23/23 [==============================] - 0s 3ms/step - loss: 120.6292\n",
      "Epoch 41/50\n",
      "23/23 [==============================] - 0s 3ms/step - loss: 119.1039\n",
      "Epoch 42/50\n",
      "23/23 [==============================] - 0s 4ms/step - loss: 119.1575\n",
      "Epoch 43/50\n",
      "23/23 [==============================] - 0s 3ms/step - loss: 118.1154\n",
      "Epoch 44/50\n",
      "23/23 [==============================] - 0s 3ms/step - loss: 116.5030\n",
      "Epoch 45/50\n",
      "23/23 [==============================] - 0s 4ms/step - loss: 116.1868\n",
      "Epoch 46/50\n",
      "23/23 [==============================] - 0s 3ms/step - loss: 114.1688\n",
      "Epoch 47/50\n",
      "23/23 [==============================] - 0s 3ms/step - loss: 114.1642\n",
      "Epoch 48/50\n",
      "23/23 [==============================] - 0s 3ms/step - loss: 112.2495\n",
      "Epoch 49/50\n",
      "23/23 [==============================] - 0s 3ms/step - loss: 111.4899\n",
      "Epoch 50/50\n",
      "23/23 [==============================] - 0s 4ms/step - loss: 111.4519\n"
     ]
    },
    {
     "data": {
      "text/plain": [
       "<keras.callbacks.History at 0x1b06c2d1400>"
      ]
     },
     "execution_count": 49,
     "metadata": {},
     "output_type": "execute_result"
    }
   ],
   "source": [
    "# fit the model\n",
    "epochs = 50\n",
    "model.fit(X_train, y_train, epochs=epochs, verbose=1)"
   ]
  },
  {
   "cell_type": "code",
   "execution_count": 50,
   "id": "dd0166c6",
   "metadata": {},
   "outputs": [
    {
     "name": "stdout",
     "output_type": "stream",
     "text": [
      "10/10 [==============================] - 0s 5ms/step - loss: 118.2054\n",
      "10/10 [==============================] - 0s 2ms/step\n"
     ]
    },
    {
     "data": {
      "text/plain": [
       "118.20539093017578"
      ]
     },
     "execution_count": 50,
     "metadata": {},
     "output_type": "execute_result"
    }
   ],
   "source": [
    "loss_val = model.evaluate(X_test, y_test)\n",
    "y_pred = model.predict(X_test)\n",
    "loss_val"
   ]
  },
  {
   "cell_type": "markdown",
   "id": "45b6308c",
   "metadata": {},
   "source": [
    "Now we need to compute the mean squared error between the predicted concrete strength and the actual concrete strength.\n",
    "\n",
    "Let's import the mean_squared_error function from Scikit-learn."
   ]
  },
  {
   "cell_type": "code",
   "execution_count": 51,
   "id": "fe17a0d1",
   "metadata": {},
   "outputs": [],
   "source": [
    "from sklearn.metrics import mean_squared_error"
   ]
  },
  {
   "cell_type": "code",
   "execution_count": 52,
   "id": "158e6bcf",
   "metadata": {},
   "outputs": [
    {
     "name": "stdout",
     "output_type": "stream",
     "text": [
      "118.20538543776037 0.0\n"
     ]
    }
   ],
   "source": [
    "mean_square_error = mean_squared_error(y_test, y_pred)\n",
    "mean = np.mean(mean_square_error)\n",
    "standard_deviation = np.std(mean_square_error)\n",
    "print(mean, standard_deviation)"
   ]
  },
  {
   "cell_type": "code",
   "execution_count": 53,
   "id": "fcd9da34",
   "metadata": {},
   "outputs": [
    {
     "name": "stdout",
     "output_type": "stream",
     "text": [
      "MSE 1: 95.61199951171875\n",
      "10/10 [==============================] - 0s 4ms/step\n",
      "MSE 2: 120.64679718017578\n",
      "10/10 [==============================] - 0s 3ms/step\n",
      "MSE 3: 106.93578338623047\n",
      "10/10 [==============================] - 0s 2ms/step\n",
      "MSE 4: 128.6146697998047\n",
      "10/10 [==============================] - 0s 3ms/step\n",
      "MSE 5: 114.5068130493164\n",
      "10/10 [==============================] - 0s 3ms/step\n",
      "MSE 6: 101.48768615722656\n",
      "10/10 [==============================] - 0s 4ms/step\n",
      "MSE 7: 113.15092468261719\n",
      "10/10 [==============================] - 0s 3ms/step\n",
      "MSE 8: 50.671268463134766\n",
      "10/10 [==============================] - 0s 2ms/step\n",
      "MSE 9: 55.40103530883789\n",
      "10/10 [==============================] - 0s 3ms/step\n",
      "MSE 10: 55.35392761230469\n",
      "10/10 [==============================] - 0s 3ms/step\n",
      "MSE 11: 50.2654914855957\n",
      "10/10 [==============================] - 0s 2ms/step\n",
      "MSE 12: 47.56955337524414\n",
      "10/10 [==============================] - 0s 3ms/step\n",
      "MSE 13: 61.47863006591797\n",
      "10/10 [==============================] - 0s 3ms/step\n",
      "MSE 14: 58.87358474731445\n",
      "10/10 [==============================] - 0s 4ms/step\n",
      "MSE 15: 49.83417892456055\n",
      "10/10 [==============================] - 0s 2ms/step\n",
      "MSE 16: 48.901695251464844\n",
      "10/10 [==============================] - 0s 4ms/step\n",
      "MSE 17: 47.95954513549805\n",
      "10/10 [==============================] - 0s 3ms/step\n",
      "MSE 18: 49.94139862060547\n",
      "10/10 [==============================] - 0s 4ms/step\n",
      "MSE 19: 45.59566879272461\n",
      "10/10 [==============================] - 0s 3ms/step\n",
      "MSE 20: 48.071231842041016\n",
      "10/10 [==============================] - 0s 3ms/step\n",
      "MSE 21: 45.20716857910156\n",
      "10/10 [==============================] - 0s 3ms/step\n",
      "MSE 22: 59.25859069824219\n",
      "10/10 [==============================] - 0s 3ms/step\n",
      "MSE 23: 44.864994049072266\n",
      "10/10 [==============================] - 0s 3ms/step\n",
      "MSE 24: 46.52449035644531\n",
      "10/10 [==============================] - 0s 4ms/step\n",
      "MSE 25: 49.89555358886719\n",
      "10/10 [==============================] - 0s 4ms/step\n",
      "MSE 26: 51.91252517700195\n",
      "10/10 [==============================] - 0s 3ms/step\n",
      "MSE 27: 49.785728454589844\n",
      "10/10 [==============================] - 0s 3ms/step\n",
      "MSE 28: 44.97944641113281\n",
      "10/10 [==============================] - 0s 2ms/step\n",
      "MSE 29: 55.07069778442383\n",
      "10/10 [==============================] - 0s 2ms/step\n",
      "MSE 30: 50.23762893676758\n",
      "10/10 [==============================] - 0s 3ms/step\n",
      "MSE 31: 52.80332565307617\n",
      "10/10 [==============================] - 0s 3ms/step\n",
      "MSE 32: 50.685890197753906\n",
      "10/10 [==============================] - 0s 3ms/step\n",
      "MSE 33: 48.71404266357422\n",
      "10/10 [==============================] - 0s 3ms/step\n",
      "MSE 34: 48.925994873046875\n",
      "10/10 [==============================] - 0s 3ms/step\n",
      "MSE 35: 48.45609664916992\n",
      "10/10 [==============================] - 0s 3ms/step\n",
      "MSE 36: 53.20549392700195\n",
      "10/10 [==============================] - 0s 2ms/step\n",
      "MSE 37: 52.330997467041016\n",
      "10/10 [==============================] - 0s 3ms/step\n",
      "MSE 38: 61.444976806640625\n",
      "10/10 [==============================] - 0s 3ms/step\n",
      "MSE 39: 47.795555114746094\n",
      "10/10 [==============================] - 0s 2ms/step\n",
      "MSE 40: 43.53384780883789\n",
      "10/10 [==============================] - 0s 2ms/step\n",
      "MSE 41: 54.12399673461914\n",
      "10/10 [==============================] - 0s 2ms/step\n",
      "MSE 42: 45.53736114501953\n",
      "10/10 [==============================] - 0s 2ms/step\n",
      "MSE 43: 46.7173957824707\n",
      "10/10 [==============================] - 0s 4ms/step\n",
      "MSE 44: 53.902740478515625\n",
      "10/10 [==============================] - 0s 4ms/step\n",
      "MSE 45: 62.754119873046875\n",
      "10/10 [==============================] - 0s 2ms/step\n",
      "MSE 46: 55.67056655883789\n",
      "10/10 [==============================] - 0s 4ms/step\n",
      "MSE 47: 49.296119689941406\n",
      "10/10 [==============================] - 0s 3ms/step\n",
      "MSE 48: 52.78474044799805\n",
      "10/10 [==============================] - 0s 3ms/step\n",
      "MSE 49: 47.8453369140625\n",
      "10/10 [==============================] - 0s 4ms/step\n",
      "MSE 50: 49.918006896972656\n",
      "10/10 [==============================] - 0s 5ms/step\n",
      "\n",
      "\n",
      "Below is the mean and standard deviation of 50 mean squared errors without normalized data. Total number of epochs for each training is: 50\n",
      "\n",
      "Mean: 59.501105531338524\n",
      "Standard Deviation: 21.80028429213655\n"
     ]
    }
   ],
   "source": [
    "total_mean_squared_errors = 50\n",
    "epochs = 50\n",
    "mean_squared_errors = []\n",
    "for i in range(0, total_mean_squared_errors):\n",
    "    X_train, X_test, y_train, y_test = train_test_split(predictors, target, test_size=0.3, random_state=i)\n",
    "    model.fit(X_train, y_train, epochs=epochs, verbose=0)\n",
    "    MSE = model.evaluate(X_test, y_test, verbose=0)\n",
    "    print(\"MSE \"+str(i+1)+\": \"+str(MSE))\n",
    "    y_pred = model.predict(X_test)\n",
    "    mean_square_error = mean_squared_error(y_test, y_pred)\n",
    "    mean_squared_errors.append(mean_square_error)\n",
    "\n",
    "mean_squared_errors = np.array(mean_squared_errors)\n",
    "mean = np.mean(mean_squared_errors)\n",
    "standard_deviation = np.std(mean_squared_errors)\n",
    "\n",
    "print('\\n')\n",
    "print(\"Below is the mean and standard deviation of \" +str(total_mean_squared_errors) + \" mean squared errors without normalized data. Total number of epochs for each training is: \" +str(epochs) + \"\\n\")\n",
    "print(\"Mean: \"+str(mean))\n",
    "print(\"Standard Deviation: \"+str(standard_deviation))"
   ]
  },
  {
   "cell_type": "code",
   "execution_count": null,
   "id": "e9bf63b8",
   "metadata": {},
   "outputs": [],
   "source": []
  }
 ],
 "metadata": {
  "kernelspec": {
   "display_name": "Python 3",
   "language": "python",
   "name": "python3"
  },
  "language_info": {
   "codemirror_mode": {
    "name": "ipython",
    "version": 3
   },
   "file_extension": ".py",
   "mimetype": "text/x-python",
   "name": "python",
   "nbconvert_exporter": "python",
   "pygments_lexer": "ipython3",
   "version": "3.8.8"
  }
 },
 "nbformat": 4,
 "nbformat_minor": 5
}
